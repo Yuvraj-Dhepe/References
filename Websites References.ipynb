{
 "cells": [
  {
   "cell_type": "markdown",
   "id": "267ffe32-2fc3-417e-832b-2ccbe9cf02d2",
   "metadata": {
    "tags": []
   },
   "source": [
    "### Helpful Websites"
   ]
  },
  {
   "cell_type": "markdown",
   "id": "987df057-8d2e-47fc-878c-290a22fa9eff",
   "metadata": {
    "tags": []
   },
   "source": [
    "#### Coding work related"
   ]
  },
  {
   "cell_type": "markdown",
   "id": "cab3cb90-9acb-424d-824c-5e6d53155274",
   "metadata": {
    "tags": []
   },
   "source": [
    "- [Shields IO](https://shields.io/category/other)\n",
    "    - Markdown Icons"
   ]
  },
  {
   "cell_type": "markdown",
   "id": "eb64cfd8-609c-4e1b-922e-c781ba7ac96f",
   "metadata": {},
   "source": [
    "#### Job Websites and tools"
   ]
  },
  {
   "cell_type": "markdown",
   "id": "3685d520-8757-491a-aa72-0279a00617f4",
   "metadata": {},
   "source": [
    "- [ ]()"
   ]
  },
  {
   "cell_type": "code",
   "execution_count": null,
   "id": "e938efd9-252e-4ca9-a486-26d414ca1482",
   "metadata": {},
   "outputs": [],
   "source": []
  }
 ],
 "metadata": {
  "kernelspec": {
   "display_name": "Python 3 (ipykernel)",
   "language": "python",
   "name": "python3"
  },
  "language_info": {
   "codemirror_mode": {
    "name": "ipython",
    "version": 3
   },
   "file_extension": ".py",
   "mimetype": "text/x-python",
   "name": "python",
   "nbconvert_exporter": "python",
   "pygments_lexer": "ipython3",
   "version": "3.11.3"
  }
 },
 "nbformat": 4,
 "nbformat_minor": 5
}
