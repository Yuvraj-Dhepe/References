{
 "cells": [
  {
   "cell_type": "markdown",
   "id": "fb165cb8-6b7b-49c2-b94f-fe0abc796f6a",
   "metadata": {},
   "source": [
    "### Plotting Codes"
   ]
  },
  {
   "cell_type": "markdown",
   "id": "80713649-04f4-43aa-b3a6-0b46211eb599",
   "metadata": {},
   "source": [
    "A nice way to check for null values via heatmap.\n",
    "```{python}\n",
    "sns.heatmap(X_train.isnull(),yticklabels = False, cbar = False, cmap = 'viridis') \n",
    "```"
   ]
  },
  {
   "cell_type": "markdown",
   "id": "4c165818-2a8a-4ff8-926a-b39ec2a1b9ee",
   "metadata": {
    "tags": []
   },
   "source": [
    "See how rcparams are used\n",
    "```{python}\n",
    "plt.rcParams['figure.figsize'] = (10, 12)\n",
    "```"
   ]
  },
  {
   "cell_type": "code",
   "execution_count": null,
   "id": "9d7586c5-66c7-4e00-91f0-0e08b376f7e0",
   "metadata": {},
   "outputs": [],
   "source": []
  }
 ],
 "metadata": {
  "kernelspec": {
   "display_name": "Python 3 (ipykernel)",
   "language": "python",
   "name": "python3"
  },
  "language_info": {
   "codemirror_mode": {
    "name": "ipython",
    "version": 3
   },
   "file_extension": ".py",
   "mimetype": "text/x-python",
   "name": "python",
   "nbconvert_exporter": "python",
   "pygments_lexer": "ipython3",
   "version": "3.11.3"
  }
 },
 "nbformat": 4,
 "nbformat_minor": 5
}
