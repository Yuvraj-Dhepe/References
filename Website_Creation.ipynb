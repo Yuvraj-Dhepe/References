{
 "cells": [
  {
   "cell_type": "markdown",
   "id": "3768a433-1218-49b8-bfc2-616e0d229a46",
   "metadata": {
    "tags": []
   },
   "source": [
    "### To do "
   ]
  },
  {
   "cell_type": "markdown",
   "id": "236f9702-62a9-43b1-b221-11675f27d720",
   "metadata": {},
   "source": [
    "- [ ] Create different sections for different project domains. \n",
    "    - Data Analysis\n",
    "    - "
   ]
  },
  {
   "cell_type": "markdown",
   "id": "24c6d6eb-14a8-409c-aa99-089057e26d1b",
   "metadata": {},
   "source": [
    "## References"
   ]
  },
  {
   "cell_type": "markdown",
   "id": "0a034ef9-614a-42b2-95e0-2c485d918019",
   "metadata": {},
   "source": [
    "## Design"
   ]
  },
  {
   "cell_type": "markdown",
   "id": "5ba05af7-55b1-4f85-b599-3b5c5a77b243",
   "metadata": {},
   "source": [
    "-  Have a good first page like\n",
    "    - [LukeBarousseTech](https://lukebarousse.tech/)\n",
    "- Write your first Blog\n",
    "- Write your first Project Blog"
   ]
  },
  {
   "cell_type": "markdown",
   "id": "12f751be-88c1-47df-a77e-9350b3cfc36e",
   "metadata": {},
   "source": [
    "- Content has to have a proper pane layout like [openscapes](https://openscapes.github.io/quarto-website-tutorial/) just in dark color"
   ]
  },
  {
   "cell_type": "code",
   "execution_count": null,
   "id": "841b48f2-b49c-41aa-a5fd-c1476518b815",
   "metadata": {},
   "outputs": [],
   "source": []
  }
 ],
 "metadata": {
  "kernelspec": {
   "display_name": "Python 3 (ipykernel)",
   "language": "python",
   "name": "python3"
  },
  "language_info": {
   "codemirror_mode": {
    "name": "ipython",
    "version": 3
   },
   "file_extension": ".py",
   "mimetype": "text/x-python",
   "name": "python",
   "nbconvert_exporter": "python",
   "pygments_lexer": "ipython3",
   "version": "3.11.3"
  }
 },
 "nbformat": 4,
 "nbformat_minor": 5
}
