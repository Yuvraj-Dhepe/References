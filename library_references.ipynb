{
 "cells": [
  {
   "cell_type": "markdown",
   "id": "7611ceda-e054-4466-9e0a-d3918def2287",
   "metadata": {},
   "source": [
    "# Installations"
   ]
  },
  {
   "cell_type": "markdown",
   "id": "362d4df3-a8d8-4b53-9461-7d710b7e3ddd",
   "metadata": {},
   "source": [
    "## WSL Installations"
   ]
  },
  {
   "cell_type": "markdown",
   "id": "7cd1b83c-781c-4001-b33e-eb17191136e8",
   "metadata": {
    "tags": []
   },
   "source": [
    "### GPU Setup"
   ]
  },
  {
   "cell_type": "markdown",
   "id": "66d5f581-e2e3-4513-b40b-9d1cde7ff3df",
   "metadata": {},
   "source": [
    "- Proper Installation for Cuda for support of torch and torchvision\n",
    "    - Install gameforce driver for windows and install cuda toolkit.\n",
    "    - Download the cuda's deb file from [link](https://docs.nvidia.com/cuda/wsl-user-guide/index.html#getting-started-with-cuda-on-wsl)\n",
    "        - Reference \n",
    "            - [R1](https://developer.nvidia.com/cuda-downloads?target_os=Linux&target_arch=x86_64&Distribution=WSL-Ubuntu&target_version=2.0&target_type=deb_local)\n",
    "            - [R2](https://linuxconfig.org/how-to-install-cuda-on-ubuntu-20-04-focal-fossa-linux\n",
    "https://linuxhint.com/install-cuda-ubuntu-2004/)\n",
    "    - Install the tookit at WSL: Sudo Apt install nvidia-cuda-tookit\n",
    "    - Maybe try: pip install torch torchvision torchaudio --no-index --find-links https://download.pytorch.org/whl/cu115/torch_stable.html "
   ]
  },
  {
   "cell_type": "markdown",
   "id": "c366affd-fa60-46a5-9232-74e3e4cc58f3",
   "metadata": {
    "tags": []
   },
   "source": [
    "### GUI Apps on WSL"
   ]
  },
  {
   "cell_type": "markdown",
   "id": "a2d23eba-8084-4483-bc08-418404f970b7",
   "metadata": {
    "tags": []
   },
   "source": [
    "- Chrome\n",
    "```bash\n",
    "### Dependencies, make sure you're up to date first\n",
    "sudo apt update && sudo apt -y upgrade && sudo apt -y autoremove\n",
    "\n",
    "# Download and Install Chrome\n",
    "wget -P ~/downlaods/chrome/ https://dl.google.com/linux/direct/google-chrome-stable_current_amd64.deb\n",
    "sudo apt -y install ~/downloads/chrome/google-chrome-stable_current_amd64.deb     sudo \n",
    "\n",
    "# Check that it's installed\n",
    "google-chrome --version\n",
    "\n",
    "```\n"
   ]
  },
  {
   "cell_type": "markdown",
   "id": "e8766dad-6187-4cea-9bc0-d7e8d1b35cbb",
   "metadata": {
    "jp-MarkdownHeadingCollapsed": true,
    "tags": []
   },
   "source": [
    "# Learning Libraries"
   ]
  },
  {
   "cell_type": "markdown",
   "id": "b7a1b061-ba91-44ae-bd29-03629b133db5",
   "metadata": {
    "jp-MarkdownHeadingCollapsed": true,
    "tags": []
   },
   "source": [
    "## WSL & Ubuntu Libraries\n",
    "- Format: \n",
    "    - [X] Lib_Name: One Liners what the library does"
   ]
  },
  {
   "cell_type": "markdown",
   "id": "c50ba2fd-9cbf-4ba6-ba9a-e486da910e23",
   "metadata": {},
   "source": [
    "Ongoing:\n",
    "- [] Quarto: To create self ML blog\n",
    "\n",
    "Experimented\n",
    "- [x] TLDR: A good short version for manual pages\n",
    "\n",
    "Future Experimentation\n",
    "- [] Pandoc:"
   ]
  },
  {
   "cell_type": "markdown",
   "id": "e151c0da-ae40-425a-ac01-58e2318240db",
   "metadata": {
    "tags": []
   },
   "source": [
    "## DSc Domain Libraries\n",
    "- Format: \n",
    "    - [X] Lib_Name: One Liners what the library does"
   ]
  },
  {
   "cell_type": "markdown",
   "id": "c838d009-58d6-4ac2-b9b7-95708eab1e16",
   "metadata": {
    "jp-MarkdownHeadingCollapsed": true,
    "tags": []
   },
   "source": [
    "### Data Analytics \n"
   ]
  },
  {
   "cell_type": "markdown",
   "id": "0fe28e8f-d6ba-4a0a-9612-f8c7cdb3557d",
   "metadata": {},
   "source": [
    "Ongoing:\n",
    "- [] Tableau\n",
    "\n",
    "Learnt:\n",
    "- [x] PowerBI:\n",
    "\n",
    "\n",
    "Future Skills\n",
    "- [] AWS: Necessary for end to end DS\n",
    "- [] Airflow: Necessary for Jobs.\n",
    "- [] MongoDb: A NoSql DB to be added to skillset"
   ]
  },
  {
   "cell_type": "markdown",
   "id": "03203e00-a1d7-4409-92b5-bf3fd79cd0b8",
   "metadata": {
    "jp-MarkdownHeadingCollapsed": true,
    "tags": []
   },
   "source": [
    "### Deep Learning"
   ]
  },
  {
   "cell_type": "markdown",
   "id": "06262add-c4ff-4135-a78c-39a4a0d70992",
   "metadata": {},
   "source": [
    "Ongoing:\n",
    "- [] FastAi\n",
    "\n",
    "Experimented\n",
    "- [x] Lb1: \n",
    "\n",
    "Future Experimentation\n",
    "- [] Lb2:"
   ]
  },
  {
   "cell_type": "markdown",
   "id": "4b3a267c-cbe8-463f-a07a-bfc7948bbed3",
   "metadata": {
    "jp-MarkdownHeadingCollapsed": true,
    "tags": []
   },
   "source": [
    "## Other Skills to Learn\n",
    "- Format: \n",
    "    - [X] Skill_Name: One Liners what the skill is useful for"
   ]
  },
  {
   "cell_type": "markdown",
   "id": "0f7d34fb-e184-4732-8108-dbf3dc74cbd0",
   "metadata": {},
   "source": []
  }
 ],
 "metadata": {
  "kernelspec": {
   "display_name": "Python 3 (ipykernel)",
   "language": "python",
   "name": "python3"
  },
  "language_info": {
   "codemirror_mode": {
    "name": "ipython",
    "version": 3
   },
   "file_extension": ".py",
   "mimetype": "text/x-python",
   "name": "python",
   "nbconvert_exporter": "python",
   "pygments_lexer": "ipython3",
   "version": "3.11.0"
  }
 },
 "nbformat": 4,
 "nbformat_minor": 5
}
