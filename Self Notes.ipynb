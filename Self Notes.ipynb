{
 "cells": [
  {
   "cell_type": "markdown",
   "id": "13498fbe-c095-4151-98ef-470f5a60f167",
   "metadata": {},
   "source": [
    "## How to learn anything "
   ]
  },
  {
   "cell_type": "markdown",
   "id": "f150ae53-2456-4f32-a62c-84fb08c3263b",
   "metadata": {},
   "source": [
    "- Have an overview by watching resources on youtube, that how the work is gonna be.\n",
    "- Just go through all of it, in one go... don't stop to look over anything, understanding not understanding all is fine.\n",
    "- Take your time, and then rego through the material slowly, take notes on the side.\n",
    "- Give your best to it."
   ]
  },
  {
   "cell_type": "markdown",
   "id": "85b2c847-fb3d-4788-be1b-9cb2031b127b",
   "metadata": {
    "jp-MarkdownHeadingCollapsed": true,
    "tags": []
   },
   "source": [
    "### AWS"
   ]
  },
  {
   "cell_type": "markdown",
   "id": "a232b1ac-8680-415d-9fd0-ddda8e5d9e2c",
   "metadata": {
    "tags": []
   },
   "source": [
    "- [Basics of AWS](https://www.youtube.com/watch?v=gz3dr6o5gxI&list=PLlfy9GnSVerRwvzoRKor9txxfPq9c8FWE)\n",
    "- [AWS Cloud Learning](https://d1.awsstatic.com/training-and-certification/ramp-up_guides/Ramp-Up_Guide_Machine_Learning.pdf) or use [Local pdf](\"http://localhost:8888/lab/tree/Projects/Learning%20AWS/Ramp-Up_Guide_Machine_Learning.pdf\")\n",
    "- [AWS ML](https://explore.skillbuilder.aws/learn/lp/28/Machine%2520Learning%2520Learning%2520Plan)"
   ]
  },
  {
   "cell_type": "markdown",
   "id": "bee38b2d-4b0d-4079-ab7d-c0d24e69fdcd",
   "metadata": {
    "jp-MarkdownHeadingCollapsed": true,
    "tags": []
   },
   "source": [
    "### Web Scraping"
   ]
  },
  {
   "cell_type": "markdown",
   "id": "00211372-4d5b-4ddf-9215-4a187a02d971",
   "metadata": {},
   "source": [
    "[Definitions](https://iqss.github.io/dss-workshops/PythonWebScrape.html)"
   ]
  },
  {
   "cell_type": "markdown",
   "id": "8a6732d6-43f0-46a2-adb1-abc87cb5d874",
   "metadata": {
    "jp-MarkdownHeadingCollapsed": true,
    "tags": []
   },
   "source": [
    "## Visualization"
   ]
  },
  {
   "cell_type": "markdown",
   "id": "fc28dbab-521a-4b90-93aa-d65121cefc89",
   "metadata": {},
   "source": [
    "#### Getting Colors for the plots"
   ]
  },
  {
   "cell_type": "markdown",
   "id": "de7191fd-64fc-4a19-8a81-bd8185f2cf49",
   "metadata": {
    "tags": []
   },
   "source": [
    "``` python\n",
    "colors = plt.cm.tab10.colors[:10]\n",
    "#colors = sns.color_palette('Set1', 10)\n",
    "channel_colors = {}\n",
    "chdd.sort_values('subscribers',ascending=False,inplace=True)\n",
    "for i, channel in enumerate(chdd['channelName']):\n",
    "    channel_colors[channel] = colors[i]\n",
    "```"
   ]
  },
  {
   "cell_type": "markdown",
   "id": "2ff786f2-85af-4c4e-b331-8d717bb9d2a2",
   "metadata": {
    "tags": []
   },
   "source": [
    "#### Matplotlib Pyplot"
   ]
  },
  {
   "cell_type": "markdown",
   "id": "62d3a041-206a-44bd-9377-19aa360763b4",
   "metadata": {},
   "source": [
    "``` python\n",
    "fig = plt.figure(dpi, figsize=(16,20)) # Get a figure object\n",
    "ax1 = fig.add_axes([left, bottom, width height]) #Create a single axis\n",
    "ax2 = -//- # Create multiple axes in the same figure object using fig.\n",
    "    \n",
    "fig, ax = plt.subplot(nrows,ncols,dpi,figsize)# Get axes and figures directly via subplots.\n",
    "ax[index].plot() or ax.plot()\n",
    "ax.set_xticks() # Use indexing if setting it for a specific axes.\n",
    "ax.set_yticks()\n",
    "ax.set_xlim()\n",
    "ax.set_ylim()\n",
    "ax.set_xlabel()\n",
    "ax.set_ylabel()\n",
    "ax.legend(labels)\n",
    "plt.savefig()\n",
    "plt.show() or fig or fig.tight_layout() # To show the figure. \n",
    "```"
   ]
  },
  {
   "cell_type": "markdown",
   "id": "8dc85a52-3320-4b40-9c8f-49a05e668f95",
   "metadata": {
    "tags": []
   },
   "source": [
    "#### Seaborn Plots"
   ]
  },
  {
   "cell_type": "markdown",
   "id": "d8ad5fa2-0335-4704-9482-53bd32392009",
   "metadata": {
    "tags": []
   },
   "source": [
    "``` python\n",
    "# Settting basic configurations for the plots.\n",
    "matplotlib.use(\"TkAgg\") #Change the backend of matplotlib, helpful to use GUI plot, default is: 'module://matplotlib_inline.backend_inline'\n",
    "%matplotlib inline # To view plots in nb itself.\n",
    "sns.set(rc={'figure.figsize':(10,8),'figure.dpi':200}) # Set the plot configurations of all params from matplotlib.rc_params(), sns.plotting_context(), sns.axes_style()\n",
    "\n",
    "# Doing the plotting \n",
    "fig,ax = plt.subplots() # use only if more than 1 axes are required, then instead of ax we have to use ax[index] or in sns.plot_type specify the axis to plot the figure on.\n",
    "\n",
    "ax = sns.plot_type(params) #Configuring the plot itself.\n",
    "ax.... # All the variations that require to be done on the axes like ticks formatting, legend formatting etc.\n",
    "\n",
    "\n",
    "# Showing the plot\n",
    "plt.show()\n",
    "```"
   ]
  },
  {
   "cell_type": "markdown",
   "id": "820a950d-30a4-4e22-9af0-30fd299ee857",
   "metadata": {},
   "source": [
    "- Seaborn\n",
    "``` python\n",
    "tips = sns.load_dataset('name') #Predatasets in sns library itself.\n",
    "```\n",
    "##### Distribution Plots\n",
    "\n",
    "- Distribution Plots\n",
    "    - Distplot shows the distribution of a univariate variable, by combining histograms and kernel density estimate, which is a pdf of the univariate variable.\n",
    "\n",
    "``` python\n",
    "    sns.distplot(data,kde = 'bool', bins, palette)\n",
    "```\n",
    "- Jointplot\n",
    "    - Jointplot allows to create a graph of a bivariate data, where the bivariate plot is in the middle and on the axes we have 2 distplots.\n",
    "\n",
    "``` python\n",
    "sns.jointplot(x,y,data = tips,kind, palette)\n",
    "#x and y can be tips.colname so we can even remove data\n",
    "#kind: scatter, reg, hex, resid, kde \n",
    "```\n",
    "\n",
    "- Pairplot\n",
    "    - Pairplot will plot pairwise relationships across an entire dataframe (for the numerical columns) and supports a color hue argument (for categorical columns).\n",
    "    - Across diagonal you see either histogram or kde, and rest are filled with scatterplots \n",
    "\n",
    "``` python    \n",
    "sns.pairplot(data,hue,palette,diag_kind)\n",
    "```\n",
    "\n",
    "##### Categorical Data Plots\n",
    "\n",
    "- Barplot and countplots\n",
    "    - Barplots find the central tendency for a numeric variable. X here can be just a separation of the numeric variable in categories, like sex.\n",
    "    - Countplot, simply counts the number of occurences for a single variable.\n",
    "``` python\n",
    "sns.barplot(x,y,data) \n",
    "```\n",
    "- Boxplot:\n",
    "    - Shows the 5 point statistics of a numericvariable divided by categories.\n",
    "``` python    \n",
    "sns.boxplot(x,y,data,palette,orient,hue)\n",
    "```\n",
    "\n",
    "##### Matrix Plots\n",
    "- Matrix plots allow you to plot data as color-encoded matrices and can also be used to indicate clusters within the data (later in the machine learning section we will learn how to formally cluster data).\n",
    "\n",
    "``` python\n",
    "sns.heatmaps(pvtdata or corr data, cmap = 'coolwarm')\n",
    "```\n",
    "\n",
    "##### Regression Plots\n",
    "- Simple regression plots to predict a target variable by another feature variable.\n",
    "``` python\n",
    "sns.lmplot(x='total_bill',y='tip',data=tips,col='day',row='smoker',hue='sex', palette='coolwarm', aspect=1.5,size=8)\n",
    "```"
   ]
  },
  {
   "cell_type": "markdown",
   "id": "805ae40f-7773-4167-8e76-f9d92891ac11",
   "metadata": {},
   "source": [
    "## Airflow"
   ]
  },
  {
   "cell_type": "markdown",
   "id": "909c499c-8cfa-4d03-803f-56b9c0ccb9da",
   "metadata": {},
   "source": [
    "- Airflow's extensible Python framework enables you to build workflows connecting with virtually any technology. \n",
    "- A web interface helps manage the state of your workflows. \n",
    "- Airflow is deployable in many ways, varying from a single process on your laptop to a distributed setup to support even the biggest workflows.\n",
    "- Dynamic: Airflow pipelines are configured as Python code, allowing for dynamic pipeline generation.\n",
    "- Extensible: The Airflow framework contains operators to connect with numerous technologies. \n",
    "- All Airflow components are extensible to easily adjust to your environment.\n",
    "- Flexible: Workflow parameterization is built-in leveraging the Jinja templating engine."
   ]
  },
  {
   "cell_type": "markdown",
   "id": "803b36a1-186d-40d1-acca-db89eda204ec",
   "metadata": {},
   "source": []
  },
  {
   "cell_type": "code",
   "execution_count": null,
   "id": "7054a16c-233a-429d-b847-6449af298f70",
   "metadata": {},
   "outputs": [],
   "source": []
  }
 ],
 "metadata": {
  "kernelspec": {
   "display_name": "Python 3 (ipykernel)",
   "language": "python",
   "name": "python3"
  },
  "language_info": {
   "codemirror_mode": {
    "name": "ipython",
    "version": 3
   },
   "file_extension": ".py",
   "mimetype": "text/x-python",
   "name": "python",
   "nbconvert_exporter": "python",
   "pygments_lexer": "ipython3",
   "version": "3.11.0"
  }
 },
 "nbformat": 4,
 "nbformat_minor": 5
}
