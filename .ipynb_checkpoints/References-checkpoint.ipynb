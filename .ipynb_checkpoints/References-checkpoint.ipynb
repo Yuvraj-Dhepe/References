{
 "cells": [
  {
   "cell_type": "markdown",
   "id": "2a498f60-0b92-4745-8385-442e1e767fe9",
   "metadata": {},
   "source": [
    "## Reading"
   ]
  },
  {
   "cell_type": "markdown",
   "id": "cdce0f28-3463-40a8-9772-c5fb15584e9c",
   "metadata": {},
   "source": [
    "### Books "
   ]
  },
  {
   "cell_type": "markdown",
   "id": "93a4d673-23b7-4b06-933c-108245b27c12",
   "metadata": {},
   "source": [
    "#### Ongoing"
   ]
  },
  {
   "cell_type": "markdown",
   "id": "df085a40-23da-4f33-bf06-97b2607c57cb",
   "metadata": {},
   "source": [
    "#### Reading List"
   ]
  },
  {
   "cell_type": "markdown",
   "id": "c90b766b-5b55-4787-bad2-a10b5c296120",
   "metadata": {},
   "source": [
    "## Youtube"
   ]
  },
  {
   "cell_type": "markdown",
   "id": "1f879f4b-2767-4f20-8464-787f816e4360",
   "metadata": {},
   "source": [
    "### Courses "
   ]
  },
  {
   "cell_type": "markdown",
   "id": "d3f6c4ca-8b00-474c-bac5-0086f2742caa",
   "metadata": {
    "tags": []
   },
   "source": [
    "- [Code Camp Pytorch](https://youtu.be/V_xro1bcAuA)\n",
    "    - [Book Version of the tutorial](https://www.learnpytorch.io/)\n",
    "- [FastAI](https://www.youtube.com/watch?v=8SF_h3xF3cE&list=PLfYUBJiXbdtSvpQjSnJJ_PmDQB_VyT5iU&ab_channel=JeremyHoward)"
   ]
  },
  {
   "cell_type": "markdown",
   "id": "7cce13d3-4f1d-4dcd-928b-e7045b199077",
   "metadata": {},
   "source": [
    "### Projects"
   ]
  },
  {
   "cell_type": "markdown",
   "id": "0e47bc70-fbfe-4d4f-94fb-b637e31695dd",
   "metadata": {},
   "source": [
    "- [Uber Data Engineering Project](https://youtu.be/WpQECq5Hx9g)"
   ]
  },
  {
   "cell_type": "markdown",
   "id": "1bbc456f-5787-4402-b8bf-866339d3e5fa",
   "metadata": {
    "tags": []
   },
   "source": [
    "### Helpful Websites"
   ]
  },
  {
   "cell_type": "markdown",
   "id": "51fccda3-2cef-48a8-81d4-070cdc00464e",
   "metadata": {
    "tags": []
   },
   "source": [
    "#### Coding work related"
   ]
  },
  {
   "cell_type": "markdown",
   "id": "f8e27d3e-522e-4d2c-9c0f-99764ca67257",
   "metadata": {
    "tags": []
   },
   "source": [
    "- [Shields IO](https://shields.io/category/other)\n",
    "    - Markdown Icons"
   ]
  },
  {
   "cell_type": "markdown",
   "id": "ff879a09-b612-45e3-b6d0-76cd1340f756",
   "metadata": {},
   "source": [
    "#### Job Websites and tools"
   ]
  }
 ],
 "metadata": {
  "kernelspec": {
   "display_name": "Python 3 (ipykernel)",
   "language": "python",
   "name": "python3"
  },
  "language_info": {
   "codemirror_mode": {
    "name": "ipython",
    "version": 3
   },
   "file_extension": ".py",
   "mimetype": "text/x-python",
   "name": "python",
   "nbconvert_exporter": "python",
   "pygments_lexer": "ipython3",
   "version": "3.11.3"
  }
 },
 "nbformat": 4,
 "nbformat_minor": 5
}
