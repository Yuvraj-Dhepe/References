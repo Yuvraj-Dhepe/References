{
 "cells": [
  {
   "cell_type": "markdown",
   "id": "95f29607-e1b7-4471-a051-ae203e444170",
   "metadata": {
    "tags": []
   },
   "source": [
    "## Projects\n",
    "- How to find Projects\n",
    "    - Checkout Youtube for Projects\n",
    "    - Checkout online competitions for simple projects"
   ]
  },
  {
   "cell_type": "markdown",
   "id": "11056529-5089-4017-8162-0d0725e20271",
   "metadata": {
    "tags": []
   },
   "source": [
    "- Data Engineering Projects\n",
    "    - [Uber Data Engineering Project](https://youtu.be/WpQECq5Hx9g)\n",
    "- Data Science or End to End ML Projects\n",
    "\n",
    "- Data Analysis Projects\n",
    "    - [IronViz](https://www.tableau.com/sites/default/files/2022-12/%2722%20Student%20Iron%20Viz%20-%20Data%20Set%20Information%20%285%29.pdf)"
   ]
  },
  {
   "cell_type": "markdown",
   "id": "c79bafdc-5b68-45e8-b0e8-533cff8e88dd",
   "metadata": {
    "tags": []
   },
   "source": [
    "## Competitions"
   ]
  },
  {
   "cell_type": "markdown",
   "id": "dc60aa34-3779-4ebc-ae26-6c082fcf2338",
   "metadata": {},
   "source": [
    "All the competitions from Alibaba Cloud and Driven Data are ongoing. All of them are based on prediction based problems. N you can actually ask the students to sign up for the competition, cause I am not sure if one download the dataset offline and make it available to student will that be violation of legal terms of their site. This way no need to worry about evaluation, cause these sites will automatically do it, just the need is maintain a public sheet with student id's on the sites, which one can review at the end or per 2 weeks. \n",
    "\n",
    "Rest coming to kaggle the datasets are pretty simple ones, but you might need to make a evaluation metric and maybe if you feel then an evaluation test set. So I can suggest to make a gradio app(I can make that if you want) where students can submit their submissions in csv format and it will be evaluated on the evaluation metric. The results of students will be stored in the gradio app in the backend itself.\n",
    "\n",
    "If I found something new, I will email you, until then below is the list of what I feel might be good for this ML lab competition.\n",
    "\n",
    "- [DrivenData](https://www.drivendata.org/competitions/)\n",
    "    - [WaterPump Maintenance Problem](https://www.drivendata.org/competitions/7/pump-it-up-data-mining-the-water-table/)\n",
    "    - [DengAI Problem](https://www.drivendata.org/competitions/44/dengai-predicting-disease-spread/)\n",
    "    - [Earthquake Prediction](https://www.drivendata.org/competitions/57/nepal-earthquake/)\n",
    "\n",
    "- [AlibabaCloud](https://tianchi.aliyun.com/competition/activeList)\n",
    "    - [The Purchase and Redemption Forecasts-Challenge the Baseline](https://tianchi.aliyun.com/competition/entrance/231573/information)\n",
    "        - Ant Financial Services Group (AFSG) processes cash inflow and outflow for millions of its members. As one can imagine, predicting future cash flows based on historical data is an important part of AFSG's business. Participants will be challenged to predict future cash flows based on users' historical purchase and redemption data to help Ant Financial Services Group (AFSG) improve its funds management abilities. (Purchases refers to funds inflow, while redemptions refers to funds outflow.)\n",
    "    - [Repeat Buyers Prediction-Challenge the Baseline](https://tianchi.aliyun.com/competition/entrance/231576/information)\n",
    "        - Problem statement: Merchants sometimes run big promotions (e.g., discounts or cash coupons) on particular dates (e.g., Boxing-day Sales, \"Black Friday\" or \"Double 11 (Nov 11th)”, in order to attract a large number of new buyers. Unfortunately, many of the attracted buyers are one-time deal hunters, and these promotions may have little long lasting impact on sales. To alleviate this problem, it is important for merchants to identify who can be converted into repeated buyers. By targeting on these potential loyal customers, merchants can greatly reduce the promotion cost and enhance the return on investment (ROI). It is well known that in the field of online advertising, customer targeting is extremely challenging, especially for fresh buyers. However, with the long-term user behavior log accumulated by Tmall.com, we may be able to solve this problem. We provide a set of merchants and their corresponding new buyers acquired during the promotion on the \"Double 11\" day. Your task is to predict which new buyers for given merchants will become loyal customers in the future. In other words, you need to predict the probability that these new buyers would purchase items from the same merchants again within 6 months.\n",
    "    - [Offline to Online (O2O) Prediction of Coupon Redemption](https://tianchi.aliyun.com/competition/entrance/231593/information)\n",
    "        - Problem Statement: This competition provides real online and offline user consumption data from January 1, 2016 to June 30, 2016. The contestants are expected to predict the probability of customers redeeming a coupon within 15 days of receiving it.\n",
    "    - [Tianchi Getting Started Competition](https://tianchi.aliyun.com/competition/entrance/231522/information)\n",
    "        - Problem Statement: In many cases we need to develop an individualized recommendation system for a subset of all items. When fulfilling such task, besides utilizing the user behavior data in such subset of items, we also need to utilize more comprehensive user behavior data. Our objective is to develop a recommendation model for users in U on the business domain P using the data D.\n",
    "\n",
    "- [Kaggle](https://www.kaggle.com/datasets)\n",
    "    - Cheque Detection Problem: (https://www.kaggle.com/datasets/pranav10000/chequedetection)\n",
    "        - A Computer vision based problem\n",
    "    - Data Science Salaries 2023: (https://www.kaggle.com/datasets/arnabchaki/data-science-salaries-2023)\n",
    "        - A predictive analysis problem, it's new and you can even say to students which column to predict, like salary labels can be a target like in this NB(https://www.kaggle.com/code/tumpanjawat/ds-salary-full-eda-geo-prediction)\n",
    "        - Again this is an open problem, and you can decide what the students should try to predict.\n",
    "    - Student Exam Scores: (https://www.kaggle.com/datasets/desalegngeb/students-exam-scores)\n",
    "        - Another open problem, here again you can say which column should be the target like math scores for ex., and students can do predictive modelling. "
   ]
  },
  {
   "cell_type": "markdown",
   "id": "2a498f60-0b92-4745-8385-442e1e767fe9",
   "metadata": {
    "jp-MarkdownHeadingCollapsed": true,
    "tags": []
   },
   "source": [
    "## Reading"
   ]
  },
  {
   "cell_type": "markdown",
   "id": "e433d174-efc8-468c-9c01-94f393a1faa8",
   "metadata": {
    "tags": []
   },
   "source": [
    "### Books "
   ]
  },
  {
   "cell_type": "markdown",
   "id": "a0c43598-2b78-4352-aa0b-3d79040458b6",
   "metadata": {},
   "source": [
    "#### Ongoing"
   ]
  },
  {
   "cell_type": "markdown",
   "id": "8e561d9d-4431-4306-8469-5b32dec11f4b",
   "metadata": {},
   "source": [
    "#### Reading List"
   ]
  },
  {
   "cell_type": "markdown",
   "id": "b548a819-0447-4922-a8ba-bce8ea637716",
   "metadata": {
    "jp-MarkdownHeadingCollapsed": true,
    "tags": []
   },
   "source": [
    "## Websites for Quick Lookups for concepts and codes"
   ]
  },
  {
   "cell_type": "markdown",
   "id": "ee0d14c0-b311-4a61-a6e6-05bfd72193f5",
   "metadata": {},
   "source": [
    "[Google ML Crash Course](https://developers.google.com/machine-learning/crash-course/classification/true-false-positive-negative)\n",
    "- Used for ROC Curve"
   ]
  },
  {
   "cell_type": "markdown",
   "id": "f458a9bb-913d-47a3-8260-04feeddff6b0",
   "metadata": {
    "tags": []
   },
   "source": [
    "### Coding work related"
   ]
  },
  {
   "cell_type": "markdown",
   "id": "c81269b0-91f1-4f2c-93f7-6cdd72e7f642",
   "metadata": {
    "tags": []
   },
   "source": [
    "- [Shields IO](https://shields.io/category/other)\n",
    "    - Markdown Icons"
   ]
  },
  {
   "cell_type": "markdown",
   "id": "c90b766b-5b55-4787-bad2-a10b5c296120",
   "metadata": {
    "tags": []
   },
   "source": [
    "## Youtube"
   ]
  },
  {
   "cell_type": "markdown",
   "id": "1f879f4b-2767-4f20-8464-787f816e4360",
   "metadata": {
    "tags": []
   },
   "source": [
    "### Courses "
   ]
  },
  {
   "cell_type": "markdown",
   "id": "d3f6c4ca-8b00-474c-bac5-0086f2742caa",
   "metadata": {
    "tags": []
   },
   "source": [
    "- [Code Camp Pytorch](https://youtu.be/V_xro1bcAuA)\n",
    "    - [Book Version of the tutorial](https://www.learnpytorch.io/)\n",
    "- [FastAI](https://www.youtube.com/watch?v=8SF_h3xF3cE&list=PLfYUBJiXbdtSvpQjSnJJ_PmDQB_VyT5iU&ab_channel=JeremyHoward)\n",
    "- [Cloud Computing](https://learntocloud.guide/docs/phase5/)\n",
    "- [Weights & Biases](https://www.wandb.courses/courses/wandb-101)"
   ]
  }
 ],
 "metadata": {
  "kernelspec": {
   "display_name": "Python 3 (ipykernel)",
   "language": "python",
   "name": "python3"
  },
  "language_info": {
   "codemirror_mode": {
    "name": "ipython",
    "version": 3
   },
   "file_extension": ".py",
   "mimetype": "text/x-python",
   "name": "python",
   "nbconvert_exporter": "python",
   "pygments_lexer": "ipython3",
   "version": "3.11.3"
  }
 },
 "nbformat": 4,
 "nbformat_minor": 5
}
