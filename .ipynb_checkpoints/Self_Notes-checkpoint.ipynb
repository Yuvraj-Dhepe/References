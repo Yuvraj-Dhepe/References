{
 "cells": [
  {
   "cell_type": "markdown",
   "id": "13498fbe-c095-4151-98ef-470f5a60f167",
   "metadata": {},
   "source": [
    "## How to learn anything "
   ]
  },
  {
   "cell_type": "markdown",
   "id": "d6a0caeb-27c5-419f-a287-962f03bf0442",
   "metadata": {
    "tags": []
   },
   "source": [
    "### How to learn from slides and youtube"
   ]
  },
  {
   "cell_type": "markdown",
   "id": "de366f69-1923-485a-a5eb-dfafd1403dc5",
   "metadata": {
    "tags": []
   },
   "source": [
    "#### Learning from Slides or Online written content"
   ]
  },
  {
   "cell_type": "markdown",
   "id": "a38ff40e-7765-4037-a3c1-36ec39a47de2",
   "metadata": {},
   "source": [
    "- General Highlight and PDF writing Rules:\n",
    "    - Text and comments: \n",
    "        - Red Text: Questions\n",
    "        - Blue Text: Self Notes\n",
    "        - Green Text: References and definitions\n",
    "    - Highlighter markings:\n",
    "        - Yellow Highlights: Normal Highlights to read later.\n",
    "        - Blue Highlights: Important Highlights to remember.\n",
    "        - Pink Highlights: Favourite Highlights.\n",
    "        - Red Highlights: Didn't get it at all kind of things.\n",
    "        - Green: Key Words\n",
    "    - Pen:\n",
    "        - Blue Underline: Normal reading underline."
   ]
  },
  {
   "cell_type": "markdown",
   "id": "864080c0-77f0-49f7-928b-c7edcd4e69ae",
   "metadata": {},
   "source": [
    "- Maintain a notebook to take notes\n",
    "- Make physical notes in jupyter format itself\n",
    "    - Mention the slide number of page number in the side bar to which the notes belong to\n",
    "    - '#' and it's different combinations for headings and subheadings\n",
    "    - -> Use for unnumbered sub points\n",
    "    - 1), a), i) Use the following order to take numbered subpoints, where numerics are on top, then alphabets, then roman numerals.\n",
    "- What feels important to remember, transfer them to jupyter notebook notes."
   ]
  },
  {
   "cell_type": "markdown",
   "id": "21218761-339a-44b3-ad39-3bfcccda64a7",
   "metadata": {
    "tags": []
   },
   "source": [
    "#### Learning from Video Content"
   ]
  },
  {
   "cell_type": "markdown",
   "id": "045280cd-6021-4b20-bde0-2266c96b5a9c",
   "metadata": {},
   "source": [
    "- Watch the video at 1.25x or 1.5x speed on youtube once with rough to very rough notes, without any pause.\n",
    "    - Notes will consist of what went all above the head\n",
    "    - Notes will have points which are even good to remember, and sweet facts\n",
    "- Read from other sources if there is any requirement to understand points that went above the head\n",
    "- Watch the video one more time this time with pauses and good note taking in jupyter format as mentioned above"
   ]
  },
  {
   "cell_type": "markdown",
   "id": "754ff8a8-53ec-4919-b3fe-02e03e4581a4",
   "metadata": {
    "jp-MarkdownHeadingCollapsed": true,
    "tags": []
   },
   "source": [
    "## Docker"
   ]
  },
  {
   "cell_type": "markdown",
   "id": "af933195-22fa-45d4-b863-8343ed1152f1",
   "metadata": {},
   "source": [
    "### Docker Practical Codes Used Mostly"
   ]
  },
  {
   "cell_type": "markdown",
   "id": "84afcfc4-e499-48d6-9098-2c1c9cfdc2a2",
   "metadata": {},
   "source": [
    "#### Docker Container commands"
   ]
  },
  {
   "cell_type": "markdown",
   "id": "ca1079dc-bca7-4816-8d2f-573cfc30bdc6",
   "metadata": {},
   "source": [
    "- Remove all the containers\n",
    "```{bash}\n",
    "docker rm -f $(docker ps -aq)\n",
    "```\n",
    "\n",
    "- Start a container in an interactive mode and with volume bind\n",
    "```{bash}\n",
    "docker run -it -p 8080:80 -v \"$(pwd)\":/app yuvrajdh/ml-app bash\n",
    "```\n",
    "\n",
    "- Start a container without volume binding\n",
    "```{bash}\n",
    "docker run -p <host_port>:<container_port> <image_name>\n",
    "```"
   ]
  },
  {
   "cell_type": "markdown",
   "id": "462265a8-c5ae-47b8-a453-1fc8b816ed1e",
   "metadata": {
    "tags": []
   },
   "source": [
    "#### Docker Image commands"
   ]
  },
  {
   "cell_type": "markdown",
   "id": "9655ccc4-1074-498e-b950-da24f0ecd6c3",
   "metadata": {},
   "source": [
    "- Remove all the images \n",
    "```{bash}\n",
    "docker rmi $(docker images -a -q)\n",
    "```\n",
    "\n",
    "- Build a docker image from the current folder\n",
    "```bash\n",
    "docker image build -t my-image:1.0 .\n",
    "```"
   ]
  },
  {
   "cell_type": "code",
   "execution_count": null,
   "id": "80af7f5b-ed56-427e-a1b5-82c6c55abeb2",
   "metadata": {},
   "outputs": [],
   "source": []
  },
  {
   "cell_type": "markdown",
   "id": "94d1822f-2867-440c-a354-105bad2cd336",
   "metadata": {},
   "source": [
    "#### Docker General commands and notes"
   ]
  },
  {
   "cell_type": "code",
   "execution_count": null,
   "id": "add364ff-7832-47fb-a278-de762c5ebf88",
   "metadata": {},
   "outputs": [],
   "source": [
    "``` bash\n",
    "# tag your local image with the remote repository name and tag\n",
    "docker tag yuvrajdh/ml-app yuvrajdh/end_to_end_ml_app:tagname\n",
    "\n",
    "# Docker login\n",
    "docker login -u yuvrajdh\n",
    "\n",
    "\n",
    "# push the image to the remote repository\n",
    "docker push yuvrajdh/end_to_end_ml_app:tagname\n",
    "```"
   ]
  },
  {
   "cell_type": "code",
   "execution_count": null,
   "id": "8abab6c6-ea5a-4d75-83d5-0ff618512caf",
   "metadata": {},
   "outputs": [],
   "source": [
    "- Full forms\n",
    "    - p: Ports"
   ]
  },
  {
   "cell_type": "markdown",
   "id": "ea2d5e7f-5746-4b97-9476-d0c58120dc02",
   "metadata": {
    "tags": []
   },
   "source": [
    "### Re-inforcement Learning"
   ]
  },
  {
   "cell_type": "markdown",
   "id": "90fa49f5-a71f-47ae-a303-f1aa7e420639",
   "metadata": {},
   "source": []
  },
  {
   "cell_type": "markdown",
   "id": "f91e6e96-a3f1-4358-a2a4-cada898e75e7",
   "metadata": {
    "jp-MarkdownHeadingCollapsed": true,
    "tags": []
   },
   "source": [
    "### Docker commands guide"
   ]
  },
  {
   "cell_type": "markdown",
   "id": "6360ecd6-210c-4014-8fde-499ae2f7479d",
   "metadata": {
    "tags": []
   },
   "source": [
    "#### Docker Container General Commands"
   ]
  },
  {
   "cell_type": "markdown",
   "id": "34402b74-61c6-4d2c-a8dc-23e03b561b1c",
   "metadata": {
    "tags": []
   },
   "source": [
    "```bash\n",
    "# Docker Container Commands\n",
    "## Options:\n",
    "attach: Attach local standard input, output, and error streams to a running container\n",
    "-a, --attach: Attach to STDIN, STDOUT or STDERR\n",
    "-d, --detach-keys: Override the key sequence for detaching a container\n",
    "-n, --no-stdin: Do not attach STDIN\n",
    "--sig-proxy: Proxy all received signals to the process\n",
    "\n",
    "commit: Create a new image from a containers changes\n",
    "-a, --author: Author (e.g., \"John Hannibal Smith <hannibal@a-team.com>\")\n",
    "-c, --change: Apply Dockerfile instruction to the created image\n",
    "-m, --message: Commit message\n",
    "\n",
    "cp: Copy files/folders between a container and the local filesystem\n",
    "-r, --recursive: Copy files/folders recursively\n",
    "\n",
    "create: Create a new container\n",
    "--name: Assign a name to the container\n",
    "--restart: Restart policy to apply when a container exits (default \"no\")\n",
    "\n",
    "diff: Inspect changes to files or directories on a containers filesystem\n",
    "--diff-container: Compare against a specific containers file system\n",
    "\n",
    "exec: Run a command in a running container\n",
    "-d, --detach: Detached mode: run command in the background\n",
    "--privileged: Give extended privileges to the command\n",
    "-t, --tty: Allocate a pseudo-TTY\n",
    "-i, --interactive: Keep STDIN open even if not attached\n",
    "\n",
    "export: Export a containers filesystem as a tar archive\n",
    "-o, --output: Write to a file, instead of STDOUT\n",
    "\n",
    "inspect: Display detailed information on one or more containers\n",
    "-f, --format: Format the output using the given Go template\n",
    "-s, --size: Display total file sizes if the type is container\n",
    "\n",
    "kill: Kill one or more running containers\n",
    "-s, --signal: Signal to send to the container (default \"SIGKILL\")\n",
    "\n",
    "logs: Fetch the logs of a container\n",
    "-f, --follow: Follow log output\n",
    "-t, --timestamps: Show timestamps\n",
    "--since: Show logs since timestamp (e.g. 2022-2-24T15:24:20)\n",
    "\n",
    "pause: Pause all processes within one or more containers\n",
    "-t, --time: Time in seconds to wait before killing the container\n",
    "\n",
    "port: List port mappings or a specific mapping for the container\n",
    "--protocol: tcp or udp\n",
    "\n",
    "ps: List containers\n",
    "-a, --all: Show all containers (default shows just running)\n",
    "-f, --filter: Filter output based on conditions provided\n",
    "--format: Format the output using the given Go template\n",
    "-l, --latest: Show the latest created container, include non-running\n",
    "\n",
    "rename: Rename a container\n",
    "--name: New name for the container\n",
    "\n",
    "restart: Restart one or more containers\n",
    "-t, --time: Time to wait for stop before killing the container (default 10)\n",
    "\n",
    "rm: Remove one or more containers\n",
    "-f, --force: Force the removal of a running container (uses SIGKILL)\n",
    "-l, --link: Remove the specified link\n",
    "-v, --volumes: Remove the volumes associated with the container\n",
    "\n",
    "run: Run a command in a new container\n",
    "-d, --detach: Detached mode: run container in the background\n",
    "--env, -e: Set environment variables\n",
    "-i, --interactive: Keep STDIN open even if not attached\n",
    "-p, --publish: Publish a containers port(s) to the host\n",
    "-t, --tty: Allocate a pseudo-TTY\n",
    "--rm: Automatically remove the container when it exits\n",
    "--name: Assign a name to the container\n",
    "--restart: Restart policy to apply when a container exits (default \"no\")\n",
    "--volume, -v: Bind mount a volume\n",
    "\n",
    "start: Start one or more stopped containers\n",
    "-a,\n",
    "```"
   ]
  },
  {
   "cell_type": "markdown",
   "id": "0efc8630-081e-46b4-b06e-101fd380df54",
   "metadata": {},
   "source": [
    "#### Docker Image General Commands"
   ]
  },
  {
   "cell_type": "markdown",
   "id": "6ab380bc-b283-4aa5-8ffd-f11ac39ab6db",
   "metadata": {
    "tags": []
   },
   "source": [
    "```bash\n",
    "# docker image\n",
    "## Options:\n",
    "--help                         Print usage\n",
    "--no-trunc                     Dont truncate output\n",
    "--quiet, -q                    Only show numeric IDs\n",
    "--verbose                      Enable verbose output\n",
    "--version                      Print version information and quit\n",
    "\n",
    "# docker image build\n",
    "## Options:\n",
    "--add-host                    Add a custom host-to-IP mapping (host:ip)\n",
    "--build-arg                   Set build-time variables\n",
    "--cache-from                  Images to consider as cache sources\n",
    "--disable-content-trust       Skip image verification (default true)\n",
    "--file                        Name of the Dockerfile\n",
    "--iidfile                     Write the image ID to the file\n",
    "--label                       Set metadata for an image\n",
    "--network                     Set the networking mode for the RUN instructions during build\n",
    "--no-cache                    Do not use cache when building the image\n",
    "--output, -o                  Output destination (format: type=local,dest=path)\n",
    "--platform                    Set platform if server is multi-platform capable\n",
    "--progress                    Set type of progress output (auto, plain, tty). Use plain to show container output\n",
    "--pull                        Always attempt to pull a newer version of the image\n",
    "--quiet, -q                   Suppress the build output and print image ID on success\n",
    "--rm                          Remove intermediate containers after a successful build (default true)\n",
    "--secret                      Secret file to expose to the build (only if BuildKit enabled): id=mysecret,src=/local/secret\n",
    "--ssh                         SSH agent socket or keys to expose to the build (only if BuildKit enabled)\n",
    "--stream                      Stream attaches to server to process build context\n",
    "--target                      Set the target build stage to build.\n",
    "--ulimit                      Ulimit options (default [])\n",
    "--username                    Username override to use for the build\n",
    "--var                         Set variable values at build time\n",
    "--version                     Show the Docker version information for the build command\n",
    "\n",
    "# docker image history\n",
    "## Options:\n",
    "--help           Print usage\n",
    "--human          Print sizes and dates in human readable format (default true)\n",
    "--no-trunc       Dont truncate output\n",
    "--quiet, -q      Only show numeric IDs\n",
    "--verbose        Enable verbose output\n",
    "\n",
    "# docker image import\n",
    "## Options:\n",
    "--change, -c         Apply Dockerfile instruction to the created image\n",
    "--message, -m        Set commit message for imported image\n",
    "--platform           Set platform if server is multi-platform capable\n",
    "--quiet, -q          Suppress the output\n",
    "--repository, -r     Repository name (default [])\n",
    "--tag, -t            Name and optionally a tag in the 'name:tag' format\n",
    "\n",
    "# docker image inspect\n",
    "## Options:\n",
    "--format          Format the output using the given Go template\n",
    "--help            Print usage\n",
    "--size, -s        Display total file sizes if the type is container\n",
    "--type            Return JSON for specified type\n",
    "--verbose, -v     Print extra details about each layer\n",
    "\n",
    "# docker image load\n",
    "## Options:\n",
    "--help              Print usage\n",
    "--input, -i        Read from tar archive file, instead of STDIN\n",
    "--quiet, -q        Suppress the output\n",
    "\n",
    "# docker image ls\n",
    "## Options:\n",
    "-a, --all             Show all images (default hides intermediate images)\n",
    "--digests             Show digests\n",
    "-f, --filter filter   Filter output based on conditions provided\n",
    "--format string       Format the output using the given Go template\n",
    "--no-trunc            Dont truncate output\n",
    "-q, --quiet           Only show numeric IDs\n",
    "\n",
    "# docker image prune\n",
    "## Options:\n",
    "-a, --all           Remove all unused images, not just dangling ones\n",
    "--filter filter     Provide filter values (e.g. 'label=<key>=<value>')\n",
    "--force, -f         Do not prompt for confirmation\n",
    "--help              Print usage\n",
    "\n",
    "# docker rmi\n",
    "## Options:\n",
    "-f, --force      Force removal of the image\n",
    "--no-prune       Do not delete untagged parents\n",
    "--no-untagged    Do not delete untagged images\n",
    "--untagged-only  Delete only untagged images (i.e., those that are not referenced by any tag)\n",
    "\n",
    "# docker pull\n",
    "## Options:\n",
    "-a, --all-tags        Download all tagged images in the repository\n",
    "--disable-content-trust  Skip image verification\n",
    "--platform string     Set platform if server is multi-platform capable\n",
    "\n",
    "# docker push\n",
    "## Options:\n",
    "-a, --all-tags      Push all tagged images in the repository\n",
    "--disable-content-trust  Skip image signing\n",
    "--platform string   Set platform if server is multi-platform capable\n",
    "\n",
    "# docker tag\n",
    "## Options:\n",
    "-f, --force   Force\n",
    "--reference-..  Source image name\n",
    "-t, --tag     Name and optionally a tag in the 'name:tag' format\n",
    "\n",
    "\n",
    "# docker save\n",
    "## Options:\n",
    "-o, --output string   Write to a file, instead of STDOUT\n",
    "--quiet               Suppress verbose output\n",
    "--tag value           Only save images matching the given tag\n",
    "\n",
    "# docker load\n",
    "## Options:\n",
    "--input string   Read from a tar archive file, instead of STDIN\n",
    "-q, --quiet      Suppress verbose output\n",
    "\n",
    "# docker history\n",
    "## Options:\n",
    "--format string   Format the output using the given Go template\n",
    "-H, --human       Print sizes and dates in human readable format\n",
    "--no-trunc        Dont truncate output\n",
    "-q, --quiet       Only show numeric IDs\n",
    "\n",
    "```"
   ]
  },
  {
   "cell_type": "markdown",
   "id": "00b8039b-aa48-49e5-ad89-1967479fd08e",
   "metadata": {
    "tags": []
   },
   "source": [
    "#### Docker General Commands"
   ]
  },
  {
   "cell_type": "markdown",
   "id": "e73357dd-f47a-4d2e-bc59-943bb119f61a",
   "metadata": {
    "tags": []
   },
   "source": [
    "```bash\n",
    "docker --version   # Show the Docker version information\n",
    "\n",
    "docker attach:\n",
    "  -a, --attach                Attach to STDIN, STDOUT or STDERR\n",
    "  -d, --detach-keys           Override the key sequence for detaching a container\n",
    "  -n, --no-stdin              Do not attach STDIN\n",
    "      --sig-proxy             Proxy all received signals to the process\n",
    "\n",
    "docker build:\n",
    "  -t, --tag string            Name and optionally a tag in the 'name:tag' format\n",
    "      --file string           Name of the Dockerfile\n",
    "      --build-arg list        Set build-time variables\n",
    "      --cache-from stringSlice Images to consider as cache sources\n",
    "\n",
    "docker commit:\n",
    "  -a, --author string         Author (name, email, or both)\n",
    "  -c, --change list           Apply Dockerfile instruction to the created image\n",
    "  -m, --message string        Commit message\n",
    "\n",
    "docker cp:\n",
    "  -a, --archive               Archive mode (copy all uid/gid information)\n",
    "  -L, --follow-link           Always follow symbol link in SRC_PATH\n",
    "  -p, --pause                 Pause container during the copy\n",
    "  -q, --quiet                 Suppress the output of the copied files\n",
    "\n",
    "docker create:\n",
    "  -e, --env list              Set environment variables\n",
    "  -p, --publish list          Publish a containers port(s) to the host\n",
    "  --name string               Assign a name to the container\n",
    "  --network string            Connect a container to a network\n",
    "  -v, --volume list           Bind mount a volume\n",
    "\n",
    "docker diff:\n",
    "  --raw                       Use raw output\n",
    "  -v, --verbose               Show extra information\n",
    "\n",
    "docker events:\n",
    "  --since string              Show all events created since timestamp\n",
    "  --until string              Stream events until this timestamp\n",
    "\n",
    "docker exec:\n",
    "  -d, --detach                Detached mode: run command in the background\n",
    "  -e, --env list              Set environment variables\n",
    "  -i, --interactive           Keep STDIN open even if not attached\n",
    "  -t, --tty                   Allocate a pseudo-TTY\n",
    "\n",
    "docker export:\n",
    "  -o, --output string          Write to a file, instead of STDOUT\n",
    "\n",
    "docker history:\n",
    "  --human                     Print sizes and dates in human readable format\n",
    "  -q, --quiet                 Only show numeric IDs\n",
    "\n",
    "docker images:\n",
    "  --all, -a                   Show all images (default hides intermediate images)\n",
    "  --digests                   Show digests\n",
    "  -q, --quiet                 Only show numeric IDs\n",
    "\n",
    "docker import:\n",
    "  --change list               Apply Dockerfile instruction to the created image\n",
    "  -c, --message string        Commit message\n",
    "  -p, --platform string       Set platform if server is multi-platform capable\n",
    "\n",
    "docker info:\n",
    "  --format string             Format the output using the given Go template\n",
    "  --raw                       Produce raw JSON output\n",
    "\n",
    "docker inspect:\n",
    "  --format string             Format the output using the given Go template\n",
    "  -f, --format string         Format the output using the given Go template\n",
    "\n",
    "docker kill:\n",
    "  -s, --signal string         Signal to send to the container (default \"SIGKILL\")\n",
    "\n",
    "docker load:\n",
    "  -i, --input string          Read from tar archive file, instead of STDIN\n",
    "\n",
    "docker login:\n",
    "  -p, --password string       Password\n",
    "  -u, --username string       Username\n",
    "\n",
    "docker logs:\n",
    "  --details                   Show extra details provided to logs\n",
    "  --follow, -f                Follow log output\n",
    "  --since string              Show logs since timestamp\n",
    "  --tail string               Number of lines to show from the end of the logs\n",
    "```        "
   ]
  },
  {
   "cell_type": "markdown",
   "id": "85b2c847-fb3d-4788-be1b-9cb2031b127b",
   "metadata": {
    "jp-MarkdownHeadingCollapsed": true,
    "tags": []
   },
   "source": [
    "### AWS"
   ]
  },
  {
   "cell_type": "markdown",
   "id": "a232b1ac-8680-415d-9fd0-ddda8e5d9e2c",
   "metadata": {
    "tags": []
   },
   "source": [
    "- [Basics of AWS](https://www.youtube.com/watch?v=gz3dr6o5gxI&list=PLlfy9GnSVerRwvzoRKor9txxfPq9c8FWE)\n",
    "- [AWS Cloud Learning](https://d1.awsstatic.com/training-and-certification/ramp-up_guides/Ramp-Up_Guide_Machine_Learning.pdf) or use [Local pdf](\"http://localhost:8888/lab/tree/Projects/Learning%20AWS/Ramp-Up_Guide_Machine_Learning.pdf\")\n",
    "- [AWS ML](https://explore.skillbuilder.aws/learn/lp/28/Machine%2520Learning%2520Learning%2520Plan)"
   ]
  },
  {
   "cell_type": "markdown",
   "id": "bee38b2d-4b0d-4079-ab7d-c0d24e69fdcd",
   "metadata": {
    "jp-MarkdownHeadingCollapsed": true,
    "tags": []
   },
   "source": [
    "### Web Scraping"
   ]
  },
  {
   "cell_type": "markdown",
   "id": "00211372-4d5b-4ddf-9215-4a187a02d971",
   "metadata": {},
   "source": [
    "[Definitions](https://iqss.github.io/dss-workshops/PythonWebScrape.html)"
   ]
  },
  {
   "cell_type": "markdown",
   "id": "8a6732d6-43f0-46a2-adb1-abc87cb5d874",
   "metadata": {
    "jp-MarkdownHeadingCollapsed": true,
    "tags": []
   },
   "source": [
    "## Visualization"
   ]
  },
  {
   "cell_type": "markdown",
   "id": "c554c5e8-e31a-4ba8-b8ef-7e85bc42cd47",
   "metadata": {
    "tags": []
   },
   "source": [
    "#### Important Viz codes"
   ]
  },
  {
   "cell_type": "markdown",
   "id": "77e29e55-c78c-408e-8a51-9ad570971988",
   "metadata": {},
   "source": [
    "- Visualize Null Values in a dataset\n",
    "``` python\n",
    "sns.heatmap(viddf.isnull(),yticklabels = False, cbar = False, cmap = 'viridis')\n",
    "plt.show()\n",
    "```\n",
    "\n",
    "- To find the actual name of parameter to be set\n",
    "``` python\n",
    "import matplotlib\n",
    "for i in matplotlib.rc_params():\n",
    "    if 'rotation' in i:\n",
    "        print(i)\n",
    "```"
   ]
  },
  {
   "cell_type": "markdown",
   "id": "fc28dbab-521a-4b90-93aa-d65121cefc89",
   "metadata": {
    "tags": []
   },
   "source": [
    "#### Getting Colors for the plots"
   ]
  },
  {
   "cell_type": "markdown",
   "id": "de7191fd-64fc-4a19-8a81-bd8185f2cf49",
   "metadata": {
    "tags": []
   },
   "source": [
    "``` python\n",
    "colors = plt.cm.tab10.colors[:10]\n",
    "#colors = sns.color_palette('Set1', 10)\n",
    "channel_colors = {}\n",
    "chdd.sort_values('subscribers',ascending=False,inplace=True)\n",
    "for i, channel in enumerate(chdd['channelName']):\n",
    "    channel_colors[channel] = colors[i]\n",
    "```"
   ]
  },
  {
   "cell_type": "markdown",
   "id": "2ff786f2-85af-4c4e-b331-8d717bb9d2a2",
   "metadata": {
    "jp-MarkdownHeadingCollapsed": true,
    "tags": []
   },
   "source": [
    "#### Matplotlib Pyplot"
   ]
  },
  {
   "cell_type": "markdown",
   "id": "62d3a041-206a-44bd-9377-19aa360763b4",
   "metadata": {},
   "source": [
    "``` python\n",
    "fig = plt.figure(dpi, figsize=(16,20)) # Get a figure object\n",
    "ax1 = fig.add_axes([left, bottom, width height]) #Create a single axis\n",
    "ax2 = -//- # Create multiple axes in the same figure object using fig.\n",
    "    \n",
    "fig, ax = plt.subplot(nrows,ncols,dpi,figsize)# Get axes and figures directly via subplots.\n",
    "ax[index].plot() or ax.plot()\n",
    "ax.set_xticks() # Use indexing if setting it for a specific axes.\n",
    "ax.set_yticks()\n",
    "ax.set_xlim()\n",
    "ax.set_ylim()\n",
    "ax.set_xlabel()\n",
    "ax.set_ylabel()\n",
    "ax.legend(labels)\n",
    "plt.savefig()\n",
    "plt.show() or fig or fig.tight_layout() # To show the figure. \n",
    "```"
   ]
  },
  {
   "cell_type": "markdown",
   "id": "8dc85a52-3320-4b40-9c8f-49a05e668f95",
   "metadata": {
    "tags": []
   },
   "source": [
    "#### Seaborn Plots"
   ]
  },
  {
   "cell_type": "markdown",
   "id": "d8ad5fa2-0335-4704-9482-53bd32392009",
   "metadata": {
    "tags": []
   },
   "source": [
    "``` python\n",
    "# Settting basic configurations for the plots.\n",
    "matplotlib.use(\"TkAgg\") #Change the backend of matplotlib, helpful to use GUI plot, default is: 'module://matplotlib_inline.backend_inline'\n",
    "%matplotlib inline # To view plots in nb itself.\n",
    "sns.set(rc={'figure.figsize':(10,8),'figure.dpi':200}) # Set the plot configurations of all params from matplotlib.rc_params(), sns.plotting_context(), sns.axes_style()\n",
    "\n",
    "# Doing the plotting \n",
    "fig,ax = plt.subplots() # use only if more than 1 axes are required, then instead of ax we have to use ax[index] or in sns.plot_type specify the axis to plot the figure on.\n",
    "\n",
    "ax = sns.plot_type(params) #Configuring the plot itself.\n",
    "ax.... # All the variations that require to be done on the axes like ticks formatting, legend formatting etc.\n",
    "\n",
    "\n",
    "# Showing the plot\n",
    "plt.show()\n",
    "```\n",
    "\n",
    "\n",
    "#### or\n",
    "``` python\n",
    "rcparams = {'figure.figsize':(13,9), 'axes.titlesize':12, 'axes.labelsize':9, 'xtick.labelsize':9, 'ytick.labelsize':9, 'legend.fontsize':12,'figure.dpi': 200}\n",
    "sns.set(rc=rcparams)\n",
    "#sns.set_palette('husl')\n",
    "\n",
    "education_level = df['parental_level_of_education'].unique()\n",
    "color = sns.color_palette('Set1',len(education_level)) # create a palette with 2 colors (red and blue)\n",
    "hue_colors = {}\n",
    "\n",
    "for i, level in enumerate(education_level): # create a dictionary with the colors for each category\n",
    "    hue_colors[level] = color[i]\n",
    "\n",
    "fig,axs = plt.subplots(1,3,figsize=(25,6))\n",
    "\n",
    "sns.histplot(data=df,x='average',kde=True,hue='parental_level_of_education',ax = axs[0],palette=hue_colors,legend=False)\n",
    "axs[0].set_title('Average distribution of Marks for all students')\n",
    "axs[0].set_xlabel('Average Score')\n",
    "\n",
    "sns.histplot(data=df[df.gender=='male'],x='average',kde=True,hue='parental_level_of_education',ax = axs[1],palette=hue_colors,legend=False)\n",
    "axs[1].set_title('Average distribution of Marks for all male students')\n",
    "axs[1].set_xlabel('Average Score')\n",
    "\n",
    "sns.histplot(data=df[df.gender=='female'],x='average',kde=True,hue='parental_level_of_education',ax = axs[2],palette=hue_colors,legend=False)\n",
    "axs[2].set_title('Average distribution of Marks for all female students')\n",
    "axs[2].set_xlabel('Average Score')\n",
    "\n",
    "fig.legend(loc='upper left', bbox_to_anchor=(0.1,1.15), ncol=2,labels = hue_colors.keys(),title='Parental Education Level')\n",
    "\n",
    "\n",
    "#fig.tight_layout()\n",
    "plt.show()\n",
    "```"
   ]
  },
  {
   "cell_type": "markdown",
   "id": "820a950d-30a4-4e22-9af0-30fd299ee857",
   "metadata": {},
   "source": [
    "- Seaborn\n",
    "``` python\n",
    "tips = sns.load_dataset('name') #Predatasets in sns library itself.\n",
    "```\n",
    "##### Distribution Plots\n",
    "\n",
    "- Distribution Plots\n",
    "    - Distplot shows the distribution of a univariate variable, by combining histograms and kernel density estimate, which is a pdf of the univariate variable.\n",
    "\n",
    "``` python\n",
    "    sns.distplot(data,kde = 'bool', bins, palette)\n",
    "```\n",
    "- Jointplot\n",
    "    - Jointplot allows to create a graph of a bivariate data, where the bivariate plot is in the middle and on the axes we have 2 distplots.\n",
    "\n",
    "``` python\n",
    "sns.jointplot(x,y,data = tips,kind, palette)\n",
    "#x and y can be tips.colname so we can even remove data\n",
    "#kind: scatter, reg, hex, resid, kde \n",
    "```\n",
    "\n",
    "- Pairplot\n",
    "    - Pairplot will plot pairwise relationships across an entire dataframe (for the numerical columns) and supports a color hue argument (for categorical columns).\n",
    "    - Across diagonal you see either histogram or kde, and rest are filled with scatterplots \n",
    "\n",
    "``` python    \n",
    "sns.pairplot(data,hue,palette,diag_kind)\n",
    "```\n",
    "\n",
    "##### Categorical Data Plots\n",
    "\n",
    "- Barplot and countplots\n",
    "    - Barplots find the central tendency for a numeric variable. X here can be just a separation of the numeric variable in categories, like sex.\n",
    "    - Countplot, simply counts the number of occurences for a single variable.\n",
    "``` python\n",
    "sns.barplot(x,y,data) \n",
    "```\n",
    "- Boxplot:\n",
    "    - Shows the 5 point statistics of a numericvariable divided by categories.\n",
    "``` python    \n",
    "sns.boxplot(x,y,data,palette,orient,hue)\n",
    "```\n",
    "\n",
    "##### Matrix Plots\n",
    "- Matrix plots allow you to plot data as color-encoded matrices and can also be used to indicate clusters within the data (later in the machine learning section we will learn how to formally cluster data).\n",
    "\n",
    "``` python\n",
    "sns.heatmaps(pvtdata or corr data, cmap = 'coolwarm')\n",
    "```\n",
    "\n",
    "##### Regression Plots\n",
    "- Simple regression plots to predict a target variable by another feature variable.\n",
    "``` python\n",
    "sns.lmplot(x='total_bill',y='tip',data=tips,col='day',row='smoker',hue='sex', palette='coolwarm', aspect=1.5,size=8)\n",
    "```"
   ]
  },
  {
   "cell_type": "markdown",
   "id": "805ae40f-7773-4167-8e76-f9d92891ac11",
   "metadata": {
    "jp-MarkdownHeadingCollapsed": true,
    "tags": []
   },
   "source": [
    "## Airflow"
   ]
  },
  {
   "cell_type": "markdown",
   "id": "909c499c-8cfa-4d03-803f-56b9c0ccb9da",
   "metadata": {},
   "source": [
    "- Airflow's extensible Python framework enables you to build workflows connecting with virtually any technology. \n",
    "- A web interface helps manage the state of your workflows. \n",
    "- Airflow is deployable in many ways, varying from a single process on your laptop to a distributed setup to support even the biggest workflows.\n",
    "- Dynamic: Airflow pipelines are configured as Python code, allowing for dynamic pipeline generation.\n",
    "- Extensible: The Airflow framework contains operators to connect with numerous technologies. \n",
    "- All Airflow components are extensible to easily adjust to your environment.\n",
    "- Flexible: Workflow parameterization is built-in leveraging the Jinja templating engine."
   ]
  },
  {
   "cell_type": "markdown",
   "id": "f0c92d1c-d97c-490c-90fb-39ca6821eaeb",
   "metadata": {
    "jp-MarkdownHeadingCollapsed": true,
    "tags": []
   },
   "source": [
    "## Jupyter lab n Notebooks"
   ]
  },
  {
   "cell_type": "markdown",
   "id": "842909c2-b43f-416a-94ca-7281942e899c",
   "metadata": {
    "tags": []
   },
   "source": [
    "### Installing jupyter bit n bytes"
   ]
  },
  {
   "cell_type": "markdown",
   "id": "ceea8530-c42a-4607-9ce7-e3e55c5a5e84",
   "metadata": {},
   "source": [
    "- Tips \n",
    "    - Use conda to manage envs\n",
    "    - Use pip mostly to install packages\n",
    "- Selective conda installs\n",
    "    - nodejs\n",
    "``` bash\n",
    "    conda install nodejs\n",
    "    conda upgrade -c conda-forge nodejs #To upgrade to latest version supported by jupyter lab extensions\n",
    "```"
   ]
  },
  {
   "cell_type": "markdown",
   "id": "803b36a1-186d-40d1-acca-db89eda204ec",
   "metadata": {
    "jp-MarkdownHeadingCollapsed": true,
    "tags": []
   },
   "source": [
    "## Pandas & Numpy"
   ]
  },
  {
   "cell_type": "markdown",
   "id": "d7450212-0e4a-49de-a951-cb704f3625a4",
   "metadata": {
    "jp-MarkdownHeadingCollapsed": true,
    "tags": []
   },
   "source": [
    "### Reading a df and manipulation a bit"
   ]
  },
  {
   "cell_type": "markdown",
   "id": "34cc9837-81d1-4258-9a93-38b67a30358c",
   "metadata": {},
   "source": [
    "- Reading a dataframe\n",
    "```Python\n",
    "df = pd.read_csv(\"data.csv\",index = False)\n",
    "```\n",
    "\n",
    "- Renaming columns\n",
    "```Python\n",
    "df = df.rename(columns = {'old_name':'new_name','old_name2':'new_name2','old_name3':'new_name3'})\n",
    "```\n",
    "\n",
    "- Reset the index of pandas\n",
    "```Python\n",
    "df = df.reset_index()\n",
    "```\n",
    "\n",
    "- Setting up column dtypes manually\n",
    "```Python\n",
    "df = pd.read_csv('abc.csv',parse_date = ['Date'])\n",
    "df.info()\n",
    "\n",
    "# or\n",
    "df = pd.read_csv('abc.csv',index = False)\n",
    "df['Date'] = pd.to_datetime(df['Date'])\n",
    "df.info\n",
    "\n",
    "```\n",
    "\n",
    "- Use string methods\n",
    "``` python\n",
    "# use\n",
    "df['Name_Uppercase'] = df['Name'].str.upper()\n",
    "\n",
    "\n",
    "# instead of\n",
    "df['Name_Uppercase'] = df['Name'].apply(lambda x: str(x).upper())\n",
    "df.head()\n",
    "```"
   ]
  },
  {
   "cell_type": "markdown",
   "id": "80b463c4-e234-484a-981d-02f2148b5c13",
   "metadata": {
    "jp-MarkdownHeadingCollapsed": true,
    "tags": []
   },
   "source": [
    "### Analysis"
   ]
  },
  {
   "cell_type": "markdown",
   "id": "bb6c4725-1395-433a-9d89-90707674176a",
   "metadata": {},
   "source": [
    "- Check null and Dtypes\n",
    "``` python\n",
    "df.info()\n",
    "```\n",
    "\n",
    "- Check the number of unique values of each column\n",
    "``` python\n",
    "df.nunique()\n",
    "```\n",
    "\n",
    "- Check statistics of the data\n",
    "```Python\n",
    "df.describe()\n",
    "```\n",
    "\n",
    "- Indexing the columns\n",
    "``` python\n",
    "df.loc[r1_name:r10_name,c1_name:c5_name]\n",
    "# The last index is used in loc.\n",
    "\n",
    "# or\n",
    "df.iloc[1:10m,1:5]\n",
    "# The last index is not used in iloc\n",
    "\n",
    "# reverse the rows\n",
    "df.loc[::-1].head()\n",
    "\n",
    "# reverse the columns \n",
    "df.loc[:,::-1].head()\n",
    "```\n",
    "\n",
    "- Seperating numerical and categorical columns\n",
    "``` python\n",
    "numeric_features = [feature for feature in df.columns if df[feature].dtype != 'O']\n",
    "categorical_features = [feature for feature in df.columns if df[feature].dtype == 'O']\n",
    "```"
   ]
  },
  {
   "cell_type": "markdown",
   "id": "20a65bfc-15d4-44c7-9828-317cc711a0ef",
   "metadata": {
    "jp-MarkdownHeadingCollapsed": true,
    "tags": []
   },
   "source": [
    "### Conditional filtering and Querying"
   ]
  },
  {
   "cell_type": "markdown",
   "id": "9a32a4cf-5c95-4af5-bff3-cdc9fb0fdba8",
   "metadata": {},
   "source": [
    "- Counting\n",
    "```python\n",
    "# Find the count by a categorical attribute\n",
    "df.col_name.value_counts()\n",
    "```\n",
    "\n",
    "- Duplicate count\n",
    "``` python\n",
    "df.duplicated().sum()\n",
    "```\n",
    "\n",
    "- Conditional filtering and Querying\n",
    "```python\n",
    "df[( df[\"Embarked\"] == 'S') & (df[\"Sex\"] == 'female') & (df[\"Survived\"] == 1) ].head()\n",
    "```\n",
    "\n",
    "- Querying the columns\n",
    "```Python\n",
    "min_year = 1980\n",
    "min_time = 10\n",
    "df = df.query(\"Year < @min_year and Time > @min_time\")\n",
    "df\n",
    "```\n",
    "\n",
    "- Iterating over the rows of dataframe via broadcasting, i.e. vectorized function\n",
    "```Python\n",
    "df['result'] = df['Year'] > 1980\n",
    "df\n",
    "```\n",
    "\n",
    "- Instead of apply method use the vectorized version if possible.\n",
    "```Python\n",
    "# Use\n",
    "df['year_square'] = df['year'] ** 2\n",
    "df.head()\n",
    "# Instead of \n",
    "df['year_square'] = df.apply(lambda row: row[\"year\"]**2, axis = 1)\n",
    "df.head()\n",
    "```"
   ]
  },
  {
   "cell_type": "markdown",
   "id": "69875c89-cbf8-40c9-820a-b927509806f4",
   "metadata": {
    "jp-MarkdownHeadingCollapsed": true,
    "tags": []
   },
   "source": [
    "### NA Handling"
   ]
  },
  {
   "cell_type": "markdown",
   "id": "01f25fa9-f3a5-454a-965b-31d00840a430",
   "metadata": {},
   "source": [
    "- Fill na, and never use inplace as it's not a good method.\n",
    "```Python\n",
    "df = df.fillna(0)\n",
    "```\n",
    "\n",
    "- Calculate Null Values\n",
    "``` python\n",
    "df.isna().sum()\n",
    "```\n",
    "\n",
    "- Dropping Null Columns\n",
    "``` python\n",
    "df.dropna( axis='index').info() #Index axis is x axis we can use 0 as well, and columns as axis is same as using 1\n",
    "```\n",
    "\n",
    "- Fill with some values \n",
    "```python\n",
    "df[\"Cabin\"].fillna(\"Default Cabin\" , inplace = True)\n",
    "```"
   ]
  },
  {
   "cell_type": "markdown",
   "id": "98b7a7ab-a709-468b-a9a6-25bb41304edc",
   "metadata": {
    "jp-MarkdownHeadingCollapsed": true,
    "tags": []
   },
   "source": [
    "### Noob mistakes"
   ]
  },
  {
   "cell_type": "markdown",
   "id": "1b09af29-c9da-4eec-b873-7e4d89b28db7",
   "metadata": {},
   "source": [
    "- Create a copy of df, so that it doesn't effect the original, especially for the slice of df\n",
    "```Python\n",
    "df_fast = df.query('Time < 10').copy() # A Slice of DS\n",
    "df_fast['country'] = df_fast['Name'].str[-5:]\n",
    "df_fast\n",
    "```\n",
    "\n",
    "- Use chaining commands to apply all changes to df at once.\n",
    "```Python\n",
    "# Use\n",
    "df_out = (df.query('Year > 1975')\n",
    "          .groupby(['Athlete'])[['Time']].min()\n",
    "          .sort_values('Athlete')\n",
    "         )\n",
    "df_out\n",
    "\n",
    "# Instead of \n",
    "df2 = df.query('Year > 1975')\n",
    "df3 = df2.groupby(['Athlete'])[['Time']].min()\n",
    "df_out = df3.sort_values('Athlete')\n",
    "df_out\n",
    "```\n",
    "- Use inbuilt pandas plotting functionality\n",
    "```Python\n",
    "ax = df.plot(kind = 'scatter',\n",
    "            x = 'Year',\n",
    "            y = 'Time',\n",
    "            title = 'Year vs Speed'\n",
    "            )\n",
    "```\n",
    "- Create functions to process data instead of processing them manually each time.\n",
    "``` python\n",
    "def process_data(df):\n",
    "    df['Time_Norm'] = df['Time']/df['Time'].mean()\n",
    "    df['Place'] = df['Place'].str.lower()\n",
    "    return df\n",
    "\n",
    "dfm = process_data(dfm)\n",
    "dfw = process_data(dfw)\n",
    "dfw\n",
    "```\n",
    "\n",
    "- Grouping of data\n",
    "``` python\n",
    "df.groupby('Grouping')['Time'].min()\n",
    "\n",
    "# Looping over the data of the dataframe\n",
    "df.groupby('Grouping')['Time'].agg(['mean','count'])\n",
    "```\n",
    "\n",
    "- Saveing large data\n",
    "``` python\n",
    "# use\n",
    "large_df.to_parquet('op.parquet')\n",
    "large_df.to_feather('op.feather')\n",
    "large_df.to_pickle('op.pickle')\n",
    "# instead of \n",
    "large_df.to_csv(\"abc.csv\")\n",
    "```\n",
    "\n",
    "- Conditional formatting in pandas with html styling\n",
    "``` python\n",
    "df.sort_values( 'Time' ).head(10)[['Name','Time']] \\\n",
    ".reset_index(drop=True) \\\n",
    ".style \\\n",
    ".background gradient(cmap=\"Reds\")\n",
    "```\n",
    "\n",
    "- Giving suffixes while merging 2 df's with validation\n",
    "``` python\n",
    "df1 = pd.read_csv( 'mens100m.csv' )\n",
    "df2  = pd.read_csv( 'womens100m.csv' )\n",
    "df_merged = df1.merge(df2,on=['Year'],suffixes = ('_mens','_womens'),validate = 'm:1')\n",
    "\n",
    "#  validate options:\n",
    "# \"one to one\" or \"1: 1\": check if merge keys are unique in both datasets.\n",
    "# \"one to many\" or \"l:m\": check if merge keys are unique in left dataset.\n",
    "#\"many to one\" or \"m: 1\": check if merge keys are unique in right dataset.\n",
    "# \"many to many\" or \"m:m\": allowed, but does not result in checks.\n",
    "```\n",
    "\n",
    "- Wrapping the chaining components well, for readability\n",
    "``` python\n",
    "df_agg = (\n",
    "    df\n",
    "    .groupby(['Grouping','Year'])['Time']\n",
    "    .min()\n",
    "    .reset_index()\n",
    "    .fillna(0)\n",
    "    .sort_values(\"Year\")\n",
    "    \n",
    ")\n",
    "df_agg\n",
    "```\n",
    "\n",
    "- Making columns categorical which has categorical data for speeding up the process\n",
    "``` python\n",
    "df['Grouping'] = df['Grouping'].astype('category')\n",
    "```"
   ]
  },
  {
   "cell_type": "code",
   "execution_count": null,
   "id": "77ba7930-ce57-4634-8a37-494d959fbc80",
   "metadata": {},
   "outputs": [],
   "source": []
  }
 ],
 "metadata": {
  "kernelspec": {
   "display_name": "Python 3 (ipykernel)",
   "language": "python",
   "name": "python3"
  },
  "language_info": {
   "codemirror_mode": {
    "name": "ipython",
    "version": 3
   },
   "file_extension": ".py",
   "mimetype": "text/x-python",
   "name": "python",
   "nbconvert_exporter": "python",
   "pygments_lexer": "ipython3",
   "version": "3.11.3"
  }
 },
 "nbformat": 4,
 "nbformat_minor": 5
}
