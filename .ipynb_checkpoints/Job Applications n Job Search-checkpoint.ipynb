{
 "cells": [
  {
   "cell_type": "code",
   "execution_count": null,
   "id": "12bfb84e-2b3b-401c-b644-732923e65e5a",
   "metadata": {},
   "outputs": [],
   "source": [
    "## Skill-Up Self with Strong Foundation"
   ]
  },
  {
   "cell_type": "markdown",
   "id": "df735ccc-3ee6-4123-99d5-d985ae9ca7a6",
   "metadata": {
    "tags": []
   },
   "source": [
    "- Skills to learn\n",
    "    - Airflow\n",
    "    - AWS\n",
    "\n",
    "- To Do\n",
    "    - Create a personal portfolio website for sharing learnings and for jobs as well\n",
    "    - Complete the FastAi Course atleast once before the college starts\n",
    "        - Create one end to end Data Science Project \n",
    "            - References: \n",
    "    - \n",
    "    "
   ]
  },
  {
   "cell_type": "markdown",
   "id": "018fc8e8-b150-4386-8f80-d6fcc11df550",
   "metadata": {
    "tags": []
   },
   "source": [
    "## Job Applications"
   ]
  },
  {
   "cell_type": "markdown",
   "id": "bf61b1b3-c30c-4b68-bc57-d9a407b7448f",
   "metadata": {
    "tags": []
   },
   "source": [
    "- [ ] https://berlinstartupjobs.com/engineering/data-science-working-student-resourceful-humans/ \n",
    "- [ ] https://jobs.projecteaden.com/o/data-engineer-junior-or-working-student-fmd\n"
   ]
  },
  {
   "cell_type": "markdown",
   "id": "86e11269-e647-4c19-84d4-7ab261dc104f",
   "metadata": {},
   "source": [
    "## Searching For a Job"
   ]
  },
  {
   "cell_type": "markdown",
   "id": "1499f8e3-5bd5-4f34-b262-eec823ea84fa",
   "metadata": {},
   "source": [
    "### Active \n"
   ]
  },
  {
   "cell_type": "markdown",
   "id": "824b6f62-0f5e-4234-91bd-8f085584b41c",
   "metadata": {},
   "source": [
    "#### Job Databases\n",
    "- https://berlinstartupjobs.com/\n",
    "- "
   ]
  },
  {
   "cell_type": "markdown",
   "id": "4d301ead-e492-48eb-92a0-38eb5654a4a0",
   "metadata": {},
   "source": [
    "#### Internet Research\n",
    "- a\n",
    "- b\n"
   ]
  },
  {
   "cell_type": "markdown",
   "id": "4d2870d3-9c84-4453-a9fa-e8fe921bd1cf",
   "metadata": {},
   "source": [
    "#### Mailing Lists\n",
    "- a\n",
    "- b\n"
   ]
  },
  {
   "cell_type": "markdown",
   "id": "53c445ec-352c-4557-8469-e019c4ffd8ba",
   "metadata": {},
   "source": [
    "### Networking"
   ]
  },
  {
   "cell_type": "markdown",
   "id": "61f01823-54f9-4245-9779-a110b3c1f2a2",
   "metadata": {
    "tags": []
   },
   "source": [
    "#### LinkedIn, Xing:\n",
    "- To Do:\n",
    "    - [ ] Connect with People with your profile\n",
    "    \n",
    "- Done: \n",
    "    - [ ]\n",
    "\n"
   ]
  },
  {
   "cell_type": "markdown",
   "id": "f0d89376-7789-40d8-89db-de007019105c",
   "metadata": {
    "tags": []
   },
   "source": [
    "#### Fellow Students Connections\n",
    "- To Do:\n",
    "    - [x] Connect with Senior Students"
   ]
  },
  {
   "cell_type": "markdown",
   "id": "154db7fe-9673-4e14-9134-a6d628853e76",
   "metadata": {
    "tags": []
   },
   "source": [
    "#### University Staff:\n",
    "- To Do:\n",
    "    - [ ] Get in touch with Professors"
   ]
  },
  {
   "cell_type": "markdown",
   "id": "b14917c3-4d38-40d4-83df-fc30608ea50b",
   "metadata": {
    "tags": []
   },
   "source": [
    "#### Friends, Flatmates, Family\n",
    "- To Do:\n",
    "    - [ ] Ask for help to them    "
   ]
  },
  {
   "cell_type": "markdown",
   "id": "fff7bd04-a116-4f41-b2f4-1b44b79da862",
   "metadata": {
    "tags": []
   },
   "source": [
    "#### Conferences, Panel Talks, Discussions, Summer Schools\n",
    "- To Do:\n",
    "    - [ ] Take Part in GSoC for DSc    "
   ]
  },
  {
   "cell_type": "code",
   "execution_count": null,
   "id": "a24d477c-76c9-4297-a7bc-96305a3e6c3a",
   "metadata": {},
   "outputs": [],
   "source": []
  }
 ],
 "metadata": {
  "kernelspec": {
   "display_name": "Python 3 (ipykernel)",
   "language": "python",
   "name": "python3"
  },
  "language_info": {
   "codemirror_mode": {
    "name": "ipython",
    "version": 3
   },
   "file_extension": ".py",
   "mimetype": "text/x-python",
   "name": "python",
   "nbconvert_exporter": "python",
   "pygments_lexer": "ipython3",
   "version": "3.10.9"
  }
 },
 "nbformat": 4,
 "nbformat_minor": 5
}
