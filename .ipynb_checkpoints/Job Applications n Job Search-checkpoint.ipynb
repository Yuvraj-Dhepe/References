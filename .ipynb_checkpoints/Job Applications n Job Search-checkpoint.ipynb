{
 "cells": [
  {
   "cell_type": "markdown",
   "id": "4e069cb4-344d-4424-85c1-e7ed1de4543e",
   "metadata": {},
   "source": [
    "## Begin From Scratch "
   ]
  },
  {
   "cell_type": "markdown",
   "id": "96926ee2-f1ab-469c-b110-bb52b8851bd0",
   "metadata": {
    "tags": []
   },
   "source": [
    "- Mailing the group leads at technical universities for vacancies with your profile\n",
    "\n",
    "- Talking to seniors for jobs and recommendations\n",
    "\n",
    "- Applying to Open positions with your profile"
   ]
  },
  {
   "cell_type": "markdown",
   "id": "90319577-d180-4a20-b608-a7033234a134",
   "metadata": {},
   "source": [
    "### Links of portals\n",
    "- https://jobvermittlung.studentenwerk-potsdam.de/ (Uni-Potsdam Student Job Portal)\n",
    "- https://hpi.de/studium/im-studium/lehrveranstaltungen/data-engineering-ma.html (mail to professors)\n",
    "- https://www.huk.de/karriere/stellen-praktika/data-analytics/ (Apply here with your strong ML Projects in the CV)"
   ]
  },
  {
   "cell_type": "markdown",
   "id": "83d6820a-12c4-4015-8a2f-f054250bf065",
   "metadata": {
    "tags": []
   },
   "source": [
    "### Project Ideas\n",
    "- Marketing\n",
    "- Vehicle Damage\n",
    "- Insurance, Churn\n",
    "- Fraud Detection"
   ]
  },
  {
   "cell_type": "markdown",
   "id": "70c34b30-47b1-4f95-b948-a41a7ba4a920",
   "metadata": {},
   "source": [
    "## Skill-Up Self with Strong Foundation"
   ]
  },
  {
   "cell_type": "markdown",
   "id": "df735ccc-3ee6-4123-99d5-d985ae9ca7a6",
   "metadata": {
    "tags": []
   },
   "source": [
    "- Skills to learn\n",
    "    - Airflow\n",
    "    - AWS\n",
    "\n",
    "- To Do\n",
    "    - Upgrade the website personal portfolio of Quarto so that the starting page looks more visually simple & appealing website for sharing learnings and for jobs as well\n",
    "    - Complete the FastAi Course atleast once before the college starts\n",
    "        - Create one more end to end Data Science Project \n",
    "            - References: \n",
    "    - \n",
    "    "
   ]
  },
  {
   "cell_type": "markdown",
   "id": "1499f8e3-5bd5-4f34-b262-eec823ea84fa",
   "metadata": {
    "jp-MarkdownHeadingCollapsed": true,
    "tags": []
   },
   "source": [
    "### Active \n"
   ]
  },
  {
   "cell_type": "markdown",
   "id": "824b6f62-0f5e-4234-91bd-8f085584b41c",
   "metadata": {},
   "source": [
    "#### Job Databases\n",
    "- https://berlinstartupjobs.com/\n",
    "- "
   ]
  },
  {
   "cell_type": "markdown",
   "id": "4d301ead-e492-48eb-92a0-38eb5654a4a0",
   "metadata": {},
   "source": [
    "#### Internet Research\n",
    "- a\n",
    "- b\n"
   ]
  },
  {
   "cell_type": "markdown",
   "id": "4d2870d3-9c84-4453-a9fa-e8fe921bd1cf",
   "metadata": {},
   "source": [
    "#### Mailing Lists\n",
    "- a\n",
    "- b\n"
   ]
  },
  {
   "cell_type": "markdown",
   "id": "53c445ec-352c-4557-8469-e019c4ffd8ba",
   "metadata": {
    "jp-MarkdownHeadingCollapsed": true,
    "tags": []
   },
   "source": [
    "### Networking"
   ]
  },
  {
   "cell_type": "markdown",
   "id": "61f01823-54f9-4245-9779-a110b3c1f2a2",
   "metadata": {
    "tags": []
   },
   "source": [
    "#### LinkedIn, Xing:\n",
    "- To Do:\n",
    "    - [ ] Connect with People with your profile\n",
    "    \n",
    "- Done: \n",
    "    - [ ]\n",
    "\n"
   ]
  },
  {
   "cell_type": "markdown",
   "id": "f0d89376-7789-40d8-89db-de007019105c",
   "metadata": {
    "tags": []
   },
   "source": [
    "#### Fellow Students Connections\n",
    "- To Do:\n",
    "    - [x] Connect with Senior Students"
   ]
  },
  {
   "cell_type": "markdown",
   "id": "154db7fe-9673-4e14-9134-a6d628853e76",
   "metadata": {
    "tags": []
   },
   "source": [
    "#### University Staff:\n",
    "- To Do:\n",
    "    - [ ] Get in touch with Professors"
   ]
  },
  {
   "cell_type": "markdown",
   "id": "b14917c3-4d38-40d4-83df-fc30608ea50b",
   "metadata": {
    "tags": []
   },
   "source": [
    "#### Friends, Flatmates, Family\n",
    "- To Do:\n",
    "    - [ ] Ask for help to them    "
   ]
  },
  {
   "cell_type": "markdown",
   "id": "fff7bd04-a116-4f41-b2f4-1b44b79da862",
   "metadata": {
    "tags": []
   },
   "source": [
    "#### Conferences, Panel Talks, Discussions, Summer Schools\n",
    "- To Do:\n",
    "    - [ ] Take Part in GSoC for DSc    "
   ]
  }
 ],
 "metadata": {
  "kernelspec": {
   "display_name": "Python 3 (ipykernel)",
   "language": "python",
   "name": "python3"
  },
  "language_info": {
   "codemirror_mode": {
    "name": "ipython",
    "version": 3
   },
   "file_extension": ".py",
   "mimetype": "text/x-python",
   "name": "python",
   "nbconvert_exporter": "python",
   "pygments_lexer": "ipython3",
   "version": "3.11.3"
  }
 },
 "nbformat": 4,
 "nbformat_minor": 5
}
