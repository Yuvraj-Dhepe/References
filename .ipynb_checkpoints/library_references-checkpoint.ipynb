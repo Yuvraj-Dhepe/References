{
 "cells": [
  {
   "cell_type": "markdown",
   "id": "7611ceda-e054-4466-9e0a-d3918def2287",
   "metadata": {},
   "source": [
    "## To do"
   ]
  },
  {
   "cell_type": "markdown",
   "id": "66d5f581-e2e3-4513-b40b-9d1cde7ff3df",
   "metadata": {},
   "source": [
    "- Proper Installation for Cuda for support of torch and torchvision\n",
    "    - Install gameforce driver for windows and install cuda toolkit.\n",
    "    - Download the cuda's deb file from [link](https://docs.nvidia.com/cuda/wsl-user-guide/index.html#getting-started-with-cuda-on-wsl)\n",
    "        - Reference \n",
    "            - [R1](https://developer.nvidia.com/cuda-downloads?target_os=Linux&target_arch=x86_64&Distribution=WSL-Ubuntu&target_version=2.0&target_type=deb_local)\n",
    "            - [R2](https://linuxconfig.org/how-to-install-cuda-on-ubuntu-20-04-focal-fossa-linux\n",
    "https://linuxhint.com/install-cuda-ubuntu-2004/)\n",
    "    - Install the tookit at WSL: Sudo Apt install nvidia-cuda-tookit\n",
    "    - Maybe try: pip install torch torchvision torchaudio --no-index --find-links https://download.pytorch.org/whl/cu115/torch_stable.html "
   ]
  },
  {
   "cell_type": "markdown",
   "id": "b7a1b061-ba91-44ae-bd29-03629b133db5",
   "metadata": {
    "tags": []
   },
   "source": [
    "## WSL & Ubuntu Libraries\n",
    "- Format: \n",
    "    - [X] Lib_Name: One Liners what the library does"
   ]
  },
  {
   "cell_type": "markdown",
   "id": "c50ba2fd-9cbf-4ba6-ba9a-e486da910e23",
   "metadata": {},
   "source": [
    "Ongoing:\n",
    "- [] Quarto: To create self ML blog\n",
    "\n",
    "Experimented\n",
    "- [x] TLDR: A good short version for manual pages\n",
    "\n",
    "Future Experimentation\n",
    "- [] Pandoc:"
   ]
  },
  {
   "cell_type": "markdown",
   "id": "e151c0da-ae40-425a-ac01-58e2318240db",
   "metadata": {
    "jp-MarkdownHeadingCollapsed": true,
    "tags": []
   },
   "source": [
    "## Machine Learning Libraries\n",
    "- Format: \n",
    "    - [X] Lib_Name: One Liners what the library does"
   ]
  },
  {
   "cell_type": "markdown",
   "id": "03203e00-a1d7-4409-92b5-bf3fd79cd0b8",
   "metadata": {
    "tags": []
   },
   "source": [
    "Ongoing:\n",
    "- [] FastAi\n",
    "\n",
    "Experimented\n",
    "- [x] Lb1: \n",
    "\n",
    "Future Experimentation\n",
    "- [] Lb2:"
   ]
  },
  {
   "cell_type": "code",
   "execution_count": null,
   "id": "6dcadbb8-c6aa-4d2b-986d-90daaa778b85",
   "metadata": {},
   "outputs": [],
   "source": []
  }
 ],
 "metadata": {
  "kernelspec": {
   "display_name": "Python 3 (ipykernel)",
   "language": "python",
   "name": "python3"
  },
  "language_info": {
   "codemirror_mode": {
    "name": "ipython",
    "version": 3
   },
   "file_extension": ".py",
   "mimetype": "text/x-python",
   "name": "python",
   "nbconvert_exporter": "python",
   "pygments_lexer": "ipython3",
   "version": "3.10.9"
  }
 },
 "nbformat": 4,
 "nbformat_minor": 5
}
